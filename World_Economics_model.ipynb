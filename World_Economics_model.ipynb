{
  "nbformat": 4,
  "nbformat_minor": 0,
  "metadata": {
    "colab": {
      "provenance": [],
      "authorship_tag": "ABX9TyO5W0OJ9Q6e/hkLTqO5ZGj2",
      "include_colab_link": true
    },
    "kernelspec": {
      "name": "python3",
      "display_name": "Python 3"
    },
    "language_info": {
      "name": "python"
    }
  },
  "cells": [
    {
      "cell_type": "markdown",
      "metadata": {
        "id": "view-in-github",
        "colab_type": "text"
      },
      "source": [
        "<a href=\"https://colab.research.google.com/github/ShubhamRedhu/WorldEconomicsModel/blob/main/World_Economics_model.ipynb\" target=\"_parent\"><img src=\"https://colab.research.google.com/assets/colab-badge.svg\" alt=\"Open In Colab\"/></a>"
      ]
    },
    {
      "cell_type": "markdown",
      "source": [
        "Country variables -\n",
        "  1. Mining resourse -\n",
        "    - **Input**-Mining cost = MC\n",
        "    - **Input**-Mining revenue = MR\n",
        "    - Mining Profit before tax = MPBT \n",
        "    - Mining Profit after tax = MPAT\n",
        "    - **Input**-Mining Tax Percentage = MTP\n",
        "    - Mining Tax collected by government = MTCBG\n",
        "    - Mining Profit go to government = MPGTG\n",
        "    - Mining Profit go to private companies after tax = MPGTPCAT\n",
        "    - Percentage of mining done by private companies = POMDBPC\n",
        "    - **Input**-Percentage of mining done by governmnet companies = POMDBGC\n",
        "\n",
        "\n",
        "\n"
      ],
      "metadata": {
        "id": "cJT0D53Mh5kC"
      }
    },
    {
      "cell_type": "code",
      "source": [
        "# General Formula for Mining\n",
        "#Input Country 1 \n",
        "MC = 2\n",
        "MR = 2\n",
        "MTP = 2\n",
        "POMDBGC = 2\n",
        "\n",
        "#Formula\n",
        "MPBT = MC - MR\n",
        "MPAT = MPBT - (MPBT*MTP/100)\n",
        "MTCBG = MPBT - MPAT\n",
        "MPGTG = MPAT*POMDBGC/100\n",
        "MPGTPCAT = MPAT*(100 - POMDBGC)/100\n",
        "POMDBPC = 100 - POMDBGC\n",
        "#Output \n",
        "print(POMDBPC)"
      ],
      "metadata": {
        "id": "wppMZu-OhSH0",
        "colab": {
          "base_uri": "https://localhost:8080/"
        },
        "outputId": "67af0066-4bc0-403a-8bfc-58ea313da121"
      },
      "execution_count": 13,
      "outputs": [
        {
          "output_type": "stream",
          "name": "stdout",
          "text": [
            "98\n"
          ]
        }
      ]
    },
    {
      "cell_type": "code",
      "source": [
        "xyz"
      ],
      "metadata": {
        "id": "chlzHLCUhVKm"
      },
      "execution_count": null,
      "outputs": []
    }
  ]
}