{
  "nbformat": 4,
  "nbformat_minor": 0,
  "metadata": {
    "colab": {
      "provenance": [],
      "toc_visible": true,
      "mount_file_id": "1pzDCa3TfxOtHZ0GOxdGK1E-JG9ZbQKoX",
      "authorship_tag": "ABX9TyPmjDsx6pGum4S+aikt/4fj",
      "include_colab_link": true
    },
    "kernelspec": {
      "name": "python3",
      "display_name": "Python 3"
    },
    "language_info": {
      "name": "python"
    }
  },
  "cells": [
    {
      "cell_type": "markdown",
      "metadata": {
        "id": "view-in-github",
        "colab_type": "text"
      },
      "source": [
        "<a href=\"https://colab.research.google.com/github/ShubhamRedhu/WorldEconomicsModel/blob/Version-2.0/Version_2.ipynb\" target=\"_parent\"><img src=\"https://colab.research.google.com/assets/colab-badge.svg\" alt=\"Open In Colab\"/></a>"
      ]
    },
    {
      "cell_type": "markdown",
      "source": [
        "I idea is to create a simulation of cash flow and other between two or more nodes that could be a country or a sector in country - \n",
        "\n",
        "#Version 2.01\n",
        "\n",
        "First gonna make a marco-eom environmnet of a single country\n",
        "features - \n",
        "1. node - agri sector, mining, service, forex exchange, general people.\n",
        "2. each money have a single uniquee code and a new code well be added into it when it jump from one to another sector with a time stamp. \n",
        "3. cash will follow FIFO- first in first out.\n",
        "\n",
        "\n"
      ],
      "metadata": {
        "id": "-QZ5yXqXxHaH"
      }
    },
    {
      "cell_type": "code",
      "source": [
        "#delete the content of all csv file to resent always keep it in #\n",
        "#import csv\n",
        "\n",
        "file_names = ['agrisector.csv', 'centralbank.csv', 'forex.csv', 'generalpeople.csv', 'mining.csv', 'service.csv']\n",
        "file_paths = ['/content/drive/MyDrive/ColabProgram/InputWorldEco/Version 2/' + name for name in file_names]\n",
        "\n",
        "# Loop over the list of files and clear their contents\n",
        "for path in file_paths:\n",
        "    with open(path, 'w', newline='') as file:\n",
        "        pass"
      ],
      "metadata": {
        "id": "VdK14_ahasg3"
      },
      "execution_count": 26,
      "outputs": []
    },
    {
      "cell_type": "code",
      "execution_count": 27,
      "metadata": {
        "id": "D6V2n5-Bu5_g"
      },
      "outputs": [],
      "source": [
        "#generate money in central bank \n",
        "import csv\n",
        "\n",
        "# Define the file name and path\n",
        "file_name = '/content/drive/MyDrive/ColabProgram/InputWorldEco/Version 2/centralbank.csv'\n",
        "\n",
        "# Open the file in write mode using 'with' statement\n",
        "with open(file_name, 'w', newline='') as file:\n",
        "    writer = csv.writer(file)\n",
        "\n",
        "    # Write 100 rows of \"a\"\n",
        "    for i in range(1000):\n",
        "        writer.writerow(['MoneyMoney'])\n",
        "\n",
        "#print the result file \n",
        " # Open the file in read mode using 'with' statement\n",
        "with open(file_name, 'r', newline='') as file:\n",
        "    reader = csv.reader(file)\n",
        "\n",
        "    # Print each row of the file\n",
        "    #for row in reader:\n",
        "        #print(row) "
      ]
    },
    {
      "cell_type": "code",
      "source": [
        "# tranfer the money to all secter \n",
        "## rules - all sector get same amount of money \n",
        "##        - whenever tansaction happen there will be a addition of time stamp and source .csv file \n",
        "\n",
        "# create a function for money transfer \n",
        "import csv\n",
        "import datetime\n",
        "import os\n",
        "\n",
        "def transfer_money(input_file_name, output_file_name, amount):\n",
        "    # Define the input and output file paths\n",
        "    input_file_path = '/content/drive/MyDrive/ColabProgram/InputWorldEco/Version 2/' + input_file_name\n",
        "    output_file_path = '/content/drive/MyDrive/ColabProgram/InputWorldEco/Version 2/' + output_file_name\n",
        "\n",
        "    # Open the input file in read mode and the output file in write mode\n",
        "    with open(input_file_path, 'r', newline='') as input_file, \\\n",
        "         open(output_file_path, 'w', newline='') as output_file:\n",
        "\n",
        "        # Create CSV reader and writer objects\n",
        "        reader = csv.reader(input_file)\n",
        "        writer = csv.writer(output_file)\n",
        "\n",
        "        # Write the first `amount` rows of the input file to the output file\n",
        "        for i in range(amount):\n",
        "            row = next(reader, None)\n",
        "            if row:\n",
        "                now = datetime.datetime.now()\n",
        "                timestamp = now.strftime('%Y-%m-%d %H:%M:%S')\n",
        "                file_name = output_file_name\n",
        "                text = row[0] + '&' + timestamp + '&' + file_name + '?'\n",
        "                row[0] = text\n",
        "                writer.writerow(row)\n",
        "\n",
        "    # Delete the first `amount` rows of the input file\n",
        "    with open(input_file_path, 'r', newline='') as input_file:\n",
        "        reader = csv.reader(input_file)\n",
        "        rows = [row for row in reader]\n",
        "        with open(input_file_path, 'w', newline='') as input_file:\n",
        "            writer = csv.writer(input_file)\n",
        "            writer.writerows(rows[amount:])\n",
        "            \n",
        "    # Print a message to confirm that the transfer was successful\n",
        "    print(f'{amount} rows transferred from \"{input_file_name}\" to \"{output_file_name}\".')\n",
        "\n",
        "#do a money tranfer from central bank to forex\n",
        "input_file_name = 'centralbank.csv'\n",
        "output_file_name = 'forex.csv'\n",
        "amount = 200\n",
        "\n",
        "transfer_money(input_file_name, output_file_name, amount)\n",
        "\n",
        "#primary tranfer of money from central bank to agri-sector\n",
        "input_file_name = 'centralbank.csv'\n",
        "output_file_name = 'agrisector.csv'\n",
        "amount = 200\n",
        "\n",
        "transfer_money(input_file_name, output_file_name, amount)\n",
        "#cb to gp\n",
        "input_file_name = 'centralbank.csv'\n",
        "output_file_name = 'generalpeople.csv'\n",
        "amount = 200\n",
        "\n",
        "transfer_money(input_file_name, output_file_name, amount)\n",
        "#cb to mini\n",
        "input_file_name = 'centralbank.csv'\n",
        "output_file_name = 'mining.csv'\n",
        "amount = 200\n",
        "\n",
        "transfer_money(input_file_name, output_file_name, amount)\n",
        "#cb to ser\n",
        "input_file_name = 'centralbank.csv'\n",
        "output_file_name = 'service.csv'\n",
        "amount = 200\n",
        "\n",
        "transfer_money(input_file_name, output_file_name, amount)\n",
        "\n",
        "\n"
      ],
      "metadata": {
        "colab": {
          "base_uri": "https://localhost:8080/"
        },
        "id": "XGIfihV7hGTE",
        "outputId": "2e03f189-50fd-4acf-8a68-5b36d4650d9d"
      },
      "execution_count": 28,
      "outputs": [
        {
          "output_type": "stream",
          "name": "stdout",
          "text": [
            "200 rows transferred from \"centralbank.csv\" to \"forex.csv\".\n",
            "200 rows transferred from \"centralbank.csv\" to \"agrisector.csv\".\n",
            "200 rows transferred from \"centralbank.csv\" to \"generalpeople.csv\".\n",
            "200 rows transferred from \"centralbank.csv\" to \"mining.csv\".\n",
            "200 rows transferred from \"centralbank.csv\" to \"service.csv\".\n"
          ]
        }
      ]
    },
    {
      "cell_type": "markdown",
      "source": [
        "#Version 2.02\n",
        "\n",
        "Features -\n",
        "1. create a cash flow \n",
        "4. forex exchange will not carry any transation with any countries until now.\n",
        "\n",
        "\n",
        "#Version 2.03\n",
        "Features - \n",
        "1. Price of commundity change according to demand and supply according to a linear two dimentional chat of demand and supply."
      ],
      "metadata": {
        "id": "YmS7jLEbeIQf"
      }
    },
    {
      "cell_type": "code",
      "source": [
        "# Money "
      ],
      "metadata": {
        "id": "w8Bavy2QeYDV"
      },
      "execution_count": null,
      "outputs": []
    }
  ]
}